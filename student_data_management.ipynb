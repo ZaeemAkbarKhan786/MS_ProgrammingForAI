{
  "cells": [
    {
      "cell_type": "markdown",
      "metadata": {
        "id": "view-in-github",
        "colab_type": "text"
      },
      "source": [
        "<a href=\"https://colab.research.google.com/github/ZaeemAkbarKhan786/MS_ProgrammingForAI/blob/main/student_data_management.ipynb\" target=\"_parent\"><img src=\"https://colab.research.google.com/assets/colab-badge.svg\" alt=\"Open In Colab\"/></a>"
      ]
    },
    {
      "cell_type": "markdown",
      "id": "34862594",
      "metadata": {
        "id": "34862594"
      },
      "source": [
        "-------------------------------------------------------------------------------------------------------------------------------"
      ]
    },
    {
      "cell_type": "markdown",
      "id": "a322a40b",
      "metadata": {
        "id": "a322a40b"
      },
      "source": [
        "# Name: Zaeem Akbar Khan"
      ]
    },
    {
      "cell_type": "markdown",
      "id": "f286e860",
      "metadata": {
        "id": "f286e860"
      },
      "source": [
        "-------------------------------------------------------------------------------------------------------------------------------"
      ]
    },
    {
      "cell_type": "markdown",
      "id": "fb939696",
      "metadata": {
        "id": "fb939696"
      },
      "source": [
        "# Range Examples"
      ]
    },
    {
      "cell_type": "code",
      "execution_count": null,
      "id": "b7412c64",
      "metadata": {
        "id": "b7412c64",
        "outputId": "d4aee55b-e178-479a-aa36-616e88410eee"
      },
      "outputs": [
        {
          "name": "stdout",
          "output_type": "stream",
          "text": [
            "0\n",
            "1\n",
            "2\n",
            "3\n",
            "4\n",
            "5\n",
            "6\n",
            "7\n",
            "8\n",
            "9\n",
            "2\n",
            "3\n",
            "4\n",
            "5\n",
            "6\n",
            "7\n",
            "8\n",
            "9\n",
            "2\n",
            "5\n",
            "8\n",
            "11\n",
            "14\n",
            "17\n",
            "[2, 5, 8, 11, 14, 17]\n",
            "Index 0: 10\n",
            "Index 1: 20\n",
            "Index 2: 30\n",
            "Index 3: 40\n",
            "Index 4: 50\n"
          ]
        }
      ],
      "source": [
        "for i in range(10):\n",
        "    print(i)\n",
        "\n",
        "for i in range(2, 10):\n",
        "    print(i)\n",
        "\n",
        "for i in range(2, 20, 3):\n",
        "    print(i)\n",
        "\n",
        "my_list = list(range(2, 20, 3))\n",
        "print(my_list)\n",
        "\n",
        "my_list = [10, 20, 30, 40, 50]\n",
        "for i in range(len(my_list)):\n",
        "    print(f\"Index {i}: {my_list[i]}\")"
      ]
    },
    {
      "cell_type": "markdown",
      "id": "8f28c754",
      "metadata": {
        "id": "8f28c754"
      },
      "source": [
        "# List Operations"
      ]
    },
    {
      "cell_type": "code",
      "execution_count": null,
      "id": "547321d8",
      "metadata": {
        "id": "547321d8",
        "outputId": "9ba4aabc-b706-487b-8e95-ff6ccdb011b9"
      },
      "outputs": [
        {
          "name": "stdout",
          "output_type": "stream",
          "text": [
            "1\n",
            "5\n",
            "[2, 3, 4]\n",
            "[1, 2, 10, 4, 5]\n",
            "[1, 20, 30, 4, 5]\n",
            "[1, 20, 30, 4, 5, 6]\n",
            "[1, 20, 30, 4, 5, 6, 7, 8, 9]\n",
            "[1, 20, 100, 30, 4, 5, 6, 7, 8, 9]\n",
            "[1, 20, 30, 4, 5, 6, 7, 8, 9]\n",
            "[1, 20, 4, 5, 6, 7, 8, 9]\n",
            "[1, 4, 5, 6, 7, 8, 9, 20]\n",
            "[20, 9, 8, 7, 6, 5, 4, 1]\n"
          ]
        }
      ],
      "source": [
        "list_a = [1, 2, 3, 4, 5]\n",
        "empty_list = []\n",
        "\n",
        "print(list_a[0])\n",
        "print(list_a[-1])\n",
        "print(list_a[1:4])\n",
        "\n",
        "list_a[2] = 10\n",
        "print(list_a)\n",
        "\n",
        "list_a[1:3] = [20, 30]\n",
        "print(list_a)\n",
        "\n",
        "list_a.append(6)\n",
        "print(list_a)\n",
        "\n",
        "list_a.extend([7, 8, 9])\n",
        "print(list_a)\n",
        "\n",
        "list_a.insert(2, 100)\n",
        "print(list_a)\n",
        "\n",
        "list_a.remove(100)\n",
        "print(list_a)\n",
        "\n",
        "del list_a[2]\n",
        "print(list_a)\n",
        "\n",
        "list_a.sort()\n",
        "print(list_a)\n",
        "\n",
        "list_a.reverse()\n",
        "print(list_a)"
      ]
    },
    {
      "cell_type": "markdown",
      "id": "d4e8615e",
      "metadata": {
        "id": "d4e8615e"
      },
      "source": [
        "# List Examples"
      ]
    },
    {
      "cell_type": "code",
      "execution_count": null,
      "id": "23f6c98e",
      "metadata": {
        "id": "23f6c98e",
        "outputId": "5616b85b-640f-44f3-e719-758592a67b50"
      },
      "outputs": [
        {
          "name": "stdout",
          "output_type": "stream",
          "text": [
            "['document.txt', 'presentation.pptx', 'photo.jpg', 'data.csv']\n",
            "['Muhammad', 'Ali', 'Fatima', 'Zaeem']\n",
            "[{'from': 'muhammad@gmail.com', 'subject': 'Meeting Reminder', 'date': '2024-09-11'}, {'from': 'ali@gmail.com', 'subject': 'Project Update', 'date': '2024-09-10'}, {'from': 'fatima@gmail.com', 'subject': 'Monthly Newsletter', 'date': '2024-09-09'}]\n"
          ]
        }
      ],
      "source": [
        "files = [\"document.txt\", \"presentation.pptx\", \"photo.jpg\", \"data.csv\"]\n",
        "employees = [\"Muhammad\", \"Ali\", \"Fatima\", \"Zaeem\"]\n",
        "inbox = [\n",
        "    {\"from\": \"muhammad@gmail.com\", \"subject\": \"Meeting Reminder\", \"date\": \"2024-09-11\"},\n",
        "    {\"from\": \"ali@gmail.com\", \"subject\": \"Project Update\", \"date\": \"2024-09-10\"},\n",
        "    {\"from\": \"fatima@gmail.com\", \"subject\": \"Monthly Newsletter\", \"date\": \"2024-09-09\"},\n",
        "]\n",
        "\n",
        "print(files)\n",
        "print(employees)\n",
        "print(inbox)"
      ]
    },
    {
      "cell_type": "markdown",
      "id": "5b8b532f",
      "metadata": {
        "id": "5b8b532f"
      },
      "source": [
        "# Additional List Operations"
      ]
    },
    {
      "cell_type": "code",
      "execution_count": null,
      "id": "a7d72426",
      "metadata": {
        "id": "a7d72426",
        "outputId": "20c36ff4-f8b0-4023-b0fc-f59db9872496"
      },
      "outputs": [
        {
          "name": "stdout",
          "output_type": "stream",
          "text": [
            "10\n",
            "[10, 20]\n",
            "[10, 20, 30, 40, 50]\n",
            "[10, 20, 30, 10, 20, 30, 10, 20, 30]\n",
            "True\n",
            "3\n",
            "10\n",
            "30\n",
            "10\n",
            "20\n",
            "30\n"
          ]
        }
      ],
      "source": [
        "my_list = [10, 20, 30]\n",
        "\n",
        "first_item = my_list[0]\n",
        "print(first_item)\n",
        "\n",
        "sub_list = my_list[0:2]\n",
        "print(sub_list)\n",
        "\n",
        "new_list = my_list + [40, 50]\n",
        "print(new_list)\n",
        "\n",
        "repeated_list = my_list * 3\n",
        "print(repeated_list)\n",
        "\n",
        "is_in_list = 20 in my_list\n",
        "print(is_in_list)\n",
        "\n",
        "length = len(my_list)\n",
        "print(length)\n",
        "\n",
        "min_value = min(my_list)\n",
        "print(min_value)\n",
        "\n",
        "max_value = max(my_list)\n",
        "print(max_value)\n",
        "\n",
        "for item in my_list:\n",
        "    print(item)"
      ]
    },
    {
      "cell_type": "markdown",
      "id": "f00c6b11",
      "metadata": {
        "id": "f00c6b11"
      },
      "source": [
        "# Nested Lists"
      ]
    },
    {
      "cell_type": "code",
      "execution_count": null,
      "id": "4bb1b241",
      "metadata": {
        "id": "4bb1b241",
        "outputId": "9ecf136f-a05d-49cf-9586-b4f6395ddcb9"
      },
      "outputs": [
        {
          "name": "stdout",
          "output_type": "stream",
          "text": [
            "[[1, 2, 3], [4, 5, 6], [7, 8, 9]]\n",
            "[1, 2, 3]\n",
            "1\n",
            "[[1, 2, 3], [4, 5, 60], [7, 8, 9]]\n",
            "[[[[1, 2], [3, 4]], [[5, 6], [7, 8]]]]\n",
            "6\n",
            "1 2 3 \n",
            "4 5 60 \n",
            "7 8 9 \n"
          ]
        }
      ],
      "source": [
        "nested_list = [[1, 2, 3], [4, 5, 6], [7, 8, 9]]\n",
        "print(nested_list)\n",
        "\n",
        "first_sublist = nested_list[0]\n",
        "print(first_sublist)\n",
        "\n",
        "element = nested_list[0][0]\n",
        "print(element)\n",
        "\n",
        "nested_list[1][2] = 60\n",
        "print(nested_list)\n",
        "\n",
        "deeply_nested_list = [[[[1, 2], [3, 4]], [[5, 6], [7, 8]]]]\n",
        "print(deeply_nested_list)\n",
        "\n",
        "deep_element = deeply_nested_list[0][1][0][1]\n",
        "print(deep_element)\n",
        "\n",
        "for sublist in nested_list:\n",
        "    for item in sublist:\n",
        "        print(item, end=\" \")\n",
        "    print()"
      ]
    },
    {
      "cell_type": "markdown",
      "id": "f32c6228",
      "metadata": {
        "id": "f32c6228"
      },
      "source": [
        "# Write a code for the following scenario:\n",
        "# Suppose an instructor of a class has to maintain record of his students in a python dictionary data structure. The designed system asks the instructor for a record of each student one by one as a console input and passes it through a set of sequential steps before generating a dictionary data structure.\n",
        "# Write a Python script to perform following set of operations to generate dictionary of data for students.\n",
        "\n",
        "1. The script should ask the instructor repeatedly for a “student ID”, “name” and his “residential city name” and store it in three different lists. If the instructor types “stop” the loop should exit.\n",
        "2. Traverse the three lists generated in “part 1” and create a dictionary data structure out of it. The script should take ID of student as a Key of the dictionary and rest of the attributes as a list within that dictionary in following sequence: {1:[“name”,”city”]}\n",
        "\n",
        "# Once dictionary is created, the instructor should be able to query the data. He should provide ID of the student as a console input and script should return the name and city of the student."
      ]
    },
    {
      "cell_type": "markdown",
      "id": "140d480c",
      "metadata": {
        "id": "140d480c"
      },
      "source": [
        "# Solution:"
      ]
    },
    {
      "cell_type": "code",
      "execution_count": null,
      "id": "ecebe4e7",
      "metadata": {
        "id": "ecebe4e7",
        "outputId": "3433e052-abe8-4c05-c310-803a9b00b104"
      },
      "outputs": [
        {
          "name": "stdout",
          "output_type": "stream",
          "text": [
            "Enter student ID (or type 'stop' to finish): 01\n",
            "Enter student name: Muhammad\n",
            "Enter student's residential city: Islamabad\n",
            "Enter student ID (or type 'stop' to finish): 02\n",
            "Enter student name: Ali\n",
            "Enter student's residential city: Lahore\n",
            "Enter student ID (or type 'stop' to finish): 03\n",
            "Enter student name: Fatima\n",
            "Enter student's residential city: Multan\n",
            "Enter student ID (or type 'stop' to finish): 04\n",
            "Enter student name: Hasan\n",
            "Enter student's residential city: Karachi\n",
            "Enter student ID (or type 'stop' to finish): 05\n",
            "Enter student name: Hussain\n",
            "Enter student's residential city: Toba Tek Singh\n",
            "Enter student ID (or type 'stop' to finish): stop\n",
            "Enter student ID to query (or type 'stop' to finish): 01\n",
            "Name: Muhammad, City: Islamabad\n",
            "Enter student ID to query (or type 'stop' to finish): 07\n",
            "Student ID not found.\n",
            "Enter student ID to query (or type 'stop' to finish): 02\n",
            "Name: Ali, City: Lahore\n",
            "Enter student ID to query (or type 'stop' to finish): stop\n"
          ]
        }
      ],
      "source": [
        "student_ids = []\n",
        "names = []\n",
        "cities = []\n",
        "\n",
        "while True:\n",
        "    student_id = input(\"Enter student ID (or type 'stop' to finish): \")\n",
        "    if student_id.lower() == 'stop':\n",
        "        break\n",
        "    name = input(\"Enter student name: \")\n",
        "    city = input(\"Enter student's residential city: \")\n",
        "    student_ids.append(student_id)\n",
        "    names.append(name)\n",
        "    cities.append(city)\n",
        "\n",
        "students_data = {}\n",
        "for i in range(len(student_ids)):\n",
        "    students_data[student_ids[i]] = [names[i], cities[i]]\n",
        "\n",
        "while True:\n",
        "    query_id = input(\"Enter student ID to query (or type 'stop' to finish): \")\n",
        "    if query_id.lower() == 'stop':\n",
        "        break\n",
        "    if query_id in students_data:\n",
        "        print(f\"Name: {students_data[query_id][0]}, City: {students_data[query_id][1]}\")\n",
        "    else:\n",
        "        print(\"Student ID not found.\")"
      ]
    }
  ],
  "metadata": {
    "kernelspec": {
      "display_name": "Python 3 (ipykernel)",
      "language": "python",
      "name": "python3"
    },
    "language_info": {
      "codemirror_mode": {
        "name": "ipython",
        "version": 3
      },
      "file_extension": ".py",
      "mimetype": "text/x-python",
      "name": "python",
      "nbconvert_exporter": "python",
      "pygments_lexer": "ipython3",
      "version": "3.9.13"
    },
    "colab": {
      "provenance": [],
      "include_colab_link": true
    }
  },
  "nbformat": 4,
  "nbformat_minor": 5
}